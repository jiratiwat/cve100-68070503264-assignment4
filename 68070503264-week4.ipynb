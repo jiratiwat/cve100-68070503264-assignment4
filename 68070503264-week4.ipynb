{
 "cells": [
  {
   "cell_type": "code",
   "execution_count": 4,
   "id": "4d8eb8ee",
   "metadata": {},
   "outputs": [
    {
     "name": "stdout",
     "output_type": "stream",
     "text": [
      "1 is odd\n",
      "2 is even\n",
      "3 is odd\n",
      "4 is even\n",
      "5 is odd\n",
      "6 is even\n",
      "7 is odd\n",
      "8 is even\n",
      "9 is odd\n",
      "10 is even\n"
     ]
    }
   ],
   "source": [
    "n = 10\n",
    "for i in range(1,11):\n",
    "    if i % 2 ==0:\n",
    "        print(i,\"is even\")\n",
    "    else:\n",
    "        print(i,\"is odd\")"
   ]
  },
  {
   "cell_type": "code",
   "execution_count": 3,
   "id": "163665a7",
   "metadata": {},
   "outputs": [
    {
     "name": "stdout",
     "output_type": "stream",
     "text": [
      "The result is large\n",
      "The result is large\n",
      "The result is large\n",
      "The result is large\n",
      "The result is large\n",
      "The result is large\n",
      "The result is large\n",
      "The result is large\n",
      "The result is large\n",
      "The result is large\n"
     ]
    }
   ],
   "source": [
    "n = 100\n",
    "for i in range(1,11):\n",
    "    quotient = n / i\n",
    "    if quotient == 6:\n",
    "        continue\n",
    "    elif quotient > 5:\n",
    "        print(\"The result is large\")\n",
    "    else:\n",
    "        print(\"quotient =\", quotient)"
   ]
  },
  {
   "cell_type": "code",
   "execution_count": 11,
   "id": "e6e5edd8",
   "metadata": {},
   "outputs": [
    {
     "name": "stdout",
     "output_type": "stream",
     "text": [
      "Login successful\n"
     ]
    }
   ],
   "source": [
    "credentials = {'user1': 'abc123', 'admin': 'adminpass','guest': 'guest123'}\n",
    "username = input(\"Enter usename: \")\n",
    "password = input(\"Enter password:\")\n",
    "if username in credentials:\n",
    "    if credentials[username] == password:\n",
    "        print(\"Login successful\")\n",
    "    else:\n",
    "        print(\"Incorrect password\")\n",
    "else:\n",
    "    print(\"User not found\")"
   ]
  },
  {
   "cell_type": "code",
   "execution_count": 18,
   "id": "486df38e",
   "metadata": {},
   "outputs": [
    {
     "name": "stdout",
     "output_type": "stream",
     "text": [
      "* \n",
      "* * \n",
      "* * * \n",
      "* * * * \n",
      "* * * * * \n"
     ]
    }
   ],
   "source": [
    "\n",
    "rows = 5\n",
    "for i in range(1, rows+1):\n",
    "    for j in range(1, i+1):\n",
    "        print(\"*\",end=\" \")\n",
    "    print()"
   ]
  },
  {
   "cell_type": "code",
   "execution_count": 26,
   "id": "0e3ec0d1",
   "metadata": {},
   "outputs": [
    {
     "name": "stdout",
     "output_type": "stream",
     "text": [
      "Limit reached. You cannot buy anymore\n"
     ]
    }
   ],
   "source": [
    "total_bill = 0\n",
    "while total_bill<=1000:\n",
    "    price = float(input(\"Enter price of the item\"))\n",
    "    total_bill += price\n",
    "    if total_bill >= 1000:\n",
    "        print(\"Limit reached. You cannot buy anymore\")\n",
    "        break\n",
    "    else:\n",
    "        print(\"Current total =\", total_bill)"
   ]
  }
 ],
 "metadata": {
  "kernelspec": {
   "display_name": "Python 3",
   "language": "python",
   "name": "python3"
  },
  "language_info": {
   "codemirror_mode": {
    "name": "ipython",
    "version": 3
   },
   "file_extension": ".py",
   "mimetype": "text/x-python",
   "name": "python",
   "nbconvert_exporter": "python",
   "pygments_lexer": "ipython3",
   "version": "3.12.6"
  }
 },
 "nbformat": 4,
 "nbformat_minor": 5
}
